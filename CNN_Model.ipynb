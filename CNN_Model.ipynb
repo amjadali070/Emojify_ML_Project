{
  "cells": [
    {
      "cell_type": "markdown",
      "metadata": {
        "id": "Rvt0dpVdC6aQ"
      },
      "source": [
        "# Facial Emotions Detection using Convolutional Neural Network(CNN)"
      ]
    },
    {
      "cell_type": "markdown",
      "metadata": {
        "id": "4ClKejkrC6aT"
      },
      "source": [
        "# 1.Objectives\n",
        "\n",
        "1. To apply Convolutional neural networks (CNN) for facial expression/emotions recognition.\n",
        "\n",
        "2. To correctly classify each facial image into one of the seven facial emotion categories:\n",
        "    **anger, disgust, fear, happiness, sadness, surprise, and neutral.**\n",
        "    \n",
        "3. The training set consists of 28,709 examples and the public test set consists of 7,178 examples."
      ]
    },
    {
      "cell_type": "markdown",
      "metadata": {
        "id": "8fG7ph7TC6aU"
      },
      "source": [
        "\n",
        "# 2.Import Python modules"
      ]
    },
    {
      "cell_type": "code",
      "execution_count": 1,
      "metadata": {
        "id": "rheNV4KbC6aU"
      },
      "outputs": [],
      "source": [
        "import pandas as pd\n",
        "import matplotlib.pyplot as plt\n",
        "import numpy as np\n",
        "import seaborn as sns\n",
        "import pathlib\n",
        "\n",
        "from sklearn.preprocessing import StandardScaler\n",
        "\n",
        "import cv2\n",
        "import tensorflow as tf\n",
        "from tensorflow import keras\n",
        "from tensorflow.keras.models import Sequential\n",
        "from tensorflow.keras.layers import Conv2D, MaxPooling2D, Dense, Dropout, Flatten\n",
        "from tensorflow.keras.preprocessing.image import load_img\n",
        "from tensorflow.keras.preprocessing.image import img_to_array\n",
        "from tensorflow.keras.preprocessing.image import ImageDataGenerator"
      ]
    },
    {
      "cell_type": "markdown",
      "metadata": {
        "id": "CETIXHrrC6aV"
      },
      "source": [
        "# 3. Load the dataset"
      ]
    },
    {
      "cell_type": "code",
      "execution_count": 2,
      "metadata": {
        "colab": {
          "base_uri": "https://localhost:8080/"
        },
        "id": "NtWl1ZU0EzU1",
        "outputId": "3f94959b-6563-401c-eca3-c00df1043d0d"
      },
      "outputs": [
        {
          "name": "stdout",
          "output_type": "stream",
          "text": [
            "Mounted at /content/drive\n"
          ]
        }
      ],
      "source": [
        "from google.colab import drive\n",
        "drive.mount('/content/drive')"
      ]
    },
    {
      "cell_type": "code",
      "execution_count": 3,
      "metadata": {
        "colab": {
          "base_uri": "https://localhost:8080/"
        },
        "id": "izsZCsEYC6aW",
        "outputId": "87bcc0cd-dadc-449f-8631-74f7806f576d"
      },
      "outputs": [
        {
          "name": "stdout",
          "output_type": "stream",
          "text": [
            "/content/drive/MyDrive/Colab Notebooks/Machine Learning/Project/Dataset/train\n",
            "/content/drive/MyDrive/Colab Notebooks/Machine Learning/Project/Dataset/test\n"
          ]
        }
      ],
      "source": [
        "train_data_dir = pathlib.Path(\"/content/drive/MyDrive/Colab Notebooks/Machine Learning/Project/Dataset/train\")\n",
        "print(train_data_dir)\n",
        "\n",
        "test_data_dir = pathlib.Path(\"/content/drive/MyDrive/Colab Notebooks/Machine Learning/Project/Dataset/test\")\n",
        "print(test_data_dir)"
      ]
    },
    {
      "cell_type": "code",
      "execution_count": null,
      "metadata": {
        "id": "amc0nf4_C6aW"
      },
      "outputs": [],
      "source": [
        "# Initialize image data generator with rescaling\n",
        "train_data_gen = ImageDataGenerator(rescale=1./255)\n",
        "validation_data_gen = ImageDataGenerator(rescale=1./255)\n",
        "\n",
        "# Preprocess all test images\n",
        "train_generator = train_data_gen.flow_from_directory(\n",
        "        '/content/drive/MyDrive/Colab Notebooks/Machine Learning/Project/Dataset/train',\n",
        "        target_size=(48, 48),\n",
        "        batch_size=1024,\n",
        "        color_mode=\"grayscale\",\n",
        "        class_mode='categorical')\n",
        "\n",
        "# Preprocess all train images\n",
        "validation_generator = validation_data_gen.flow_from_directory(\n",
        "        '/content/drive/MyDrive/Colab Notebooks/Machine Learning/Project/Dataset/test',\n",
        "        target_size=(48, 48),\n",
        "        batch_size=256,\n",
        "        color_mode=\"grayscale\",\n",
        "        class_mode='categorical')"
      ]
    },
    {
      "cell_type": "markdown",
      "metadata": {
        "id": "6diq80yHC6aW"
      },
      "source": [
        "# 4.Build convolutional neural network"
      ]
    },
    {
      "cell_type": "code",
      "execution_count": null,
      "metadata": {
        "id": "18lkfiVnC6aX"
      },
      "outputs": [],
      "source": [
        "# create model structure\n",
        "emotion_model = Sequential([\n",
        "    Conv2D(32, kernel_size=(3, 3), activation='relu', input_shape=(48, 48, 1)),\n",
        "    Conv2D(64, kernel_size=(3, 3), activation='relu'),\n",
        "    MaxPooling2D(pool_size=(2, 2)),\n",
        "    Dropout(0.25),\n",
        "\n",
        "    Conv2D(128, kernel_size=(3, 3), activation='relu'),\n",
        "    MaxPooling2D(pool_size=(2, 2)),\n",
        "    Conv2D(128, kernel_size=(3, 3), activation='relu'),\n",
        "    MaxPooling2D(pool_size=(2, 2)),\n",
        "    Dropout(0.25),\n",
        "\n",
        "    Flatten(),\n",
        "    Dense(1024, activation='relu'),\n",
        "    Dropout(0.5),\n",
        "    Dense(7, activation='softmax')\n",
        "])\n",
        "\n",
        "emotion_model.compile(optimizer='adam',\n",
        "              loss=\"categorical_crossentropy\",\n",
        "              metrics=['accuracy'])\n",
        "\n",
        "emotion_model.summary()"
      ]
    },
    {
      "cell_type": "code",
      "execution_count": null,
      "metadata": {
        "id": "yX4RN94ZFjxE"
      },
      "outputs": [],
      "source": [
        "# Train the neural network/model\n",
        "emotion_model_info = emotion_model.fit_generator(\n",
        "        train_generator,\n",
        "        steps_per_epoch=28709 // 1024,\n",
        "        epochs=15,\n",
        "        validation_data=validation_generator,\n",
        "        validation_steps=7178 // 256)"
      ]
    },
    {
      "cell_type": "markdown",
      "metadata": {
        "id": "YvLqYH9QC6aX"
      },
      "source": [
        "# 5.Visualize Training Performance"
      ]
    },
    {
      "cell_type": "markdown",
      "metadata": {
        "id": "TgYwv9YqC6aY"
      },
      "source": [
        "# 6.Saving the model"
      ]
    },
    {
      "cell_type": "code",
      "execution_count": null,
      "metadata": {
        "id": "EGSQFHsKC6aY"
      },
      "outputs": [],
      "source": [
        "emotion_model.save('facial_emotions_model.h5')"
      ]
    },
    {
      "cell_type": "markdown",
      "metadata": {
        "id": "hC1JdVppC6aY"
      },
      "source": [
        "# 7. Test/Predict Image"
      ]
    },
    {
      "cell_type": "code",
      "execution_count": null,
      "metadata": {
        "id": "DRQC2BrSC6aY"
      },
      "outputs": [],
      "source": [
        "from tensorflow.keras.preprocessing import image\n",
        "img_path='/content/drive/MyDrive/Colab Notebooks/Machine Learning/Project/Dataset/test/happy/PrivateTest_10077120.jpg'\n",
        "test_image=image.load_img(img_path,target_size=(48,48),color_mode='grayscale')\n",
        "test_image=image.img_to_array(test_image)\n",
        "print(test_image.shape)\n",
        "plt.imshow(test_image)\n",
        "plt.show()"
      ]
    },
    {
      "cell_type": "code",
      "execution_count": null,
      "metadata": {
        "id": "3s9Guz9rC6aY"
      },
      "outputs": [],
      "source": [
        "test_image=test_image.reshape(1,48,48,1)\n",
        "classes=['Angry','Disgust','Fear','Happy','Neutral','Sad','Surprise']\n",
        "result=emotion_model.predict(test_image)\n",
        "print(result[0])\n",
        "y_pred=np.argmax(result[0])\n",
        "print('The person facial emotion is:',classes[y_pred])"
      ]
    }
  ],
  "metadata": {
    "accelerator": "GPU",
    "colab": {
      "provenance": []
    },
    "gpuClass": "standard",
    "kernelspec": {
      "display_name": "Python 3",
      "language": "python",
      "name": "python3"
    },
    "language_info": {
      "codemirror_mode": {
        "name": "ipython",
        "version": 3
      },
      "file_extension": ".py",
      "mimetype": "text/x-python",
      "name": "python",
      "nbconvert_exporter": "python",
      "pygments_lexer": "ipython3",
      "version": "3.6.4"
    }
  },
  "nbformat": 4,
  "nbformat_minor": 0
}
