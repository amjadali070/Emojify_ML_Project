{
  "cells": [
    {
      "cell_type": "markdown",
      "metadata": {
        "id": "2PlDGBfWtS-v"
      },
      "source": [
        "# Face Emotion Recognition"
      ]
    },
    {
      "cell_type": "markdown",
      "source": [
        "### Importing the librariesNew Section"
      ],
      "metadata": {
        "id": "J66_UsXGOSsE"
      }
    },
    {
      "cell_type": "code",
      "execution_count": null,
      "metadata": {
        "id": "m08987m3toXS"
      },
      "outputs": [],
      "source": [
        "import os\n",
        "import cv2\n",
        "import glob\n",
        "import numpy as np\n",
        "from time import sleep\n",
        "from google.colab.patches import cv2_imshow\n",
        "\n",
        "\n",
        "import keras\n",
        "from keras.models import Sequential\n",
        "from keras.layers import Conv2D,MaxPooling2D\n",
        "from tensorflow.keras.optimizers import RMSprop,SGD,Adam\n",
        "from keras.preprocessing.image import ImageDataGenerator\n",
        "from keras.layers import Dense,Dropout,Activation,Flatten,BatchNormalization\n",
        "from keras.callbacks import ModelCheckpoint, EarlyStopping, ReduceLROnPlateau\n",
        "\n",
        "from keras.models import load_model\n",
        "from keras.preprocessing import image\n",
        "from tensorflow.keras.preprocessing.image import img_to_array"
      ]
    },
    {
      "cell_type": "code",
      "execution_count": null,
      "metadata": {
        "colab": {
          "base_uri": "https://localhost:8080/"
        },
        "id": "RbPW0CvpST8r",
        "outputId": "eb992903-3246-4a61-b312-18e9330bd20f"
      },
      "outputs": [
        {
          "output_type": "stream",
          "name": "stdout",
          "text": [
            "Mounted at /content/drive\n"
          ]
        }
      ],
      "source": [
        "from google.colab import drive\n",
        "drive.mount('/content/drive')"
      ]
    },
    {
      "cell_type": "markdown",
      "source": [
        "### Loading the input data"
      ],
      "metadata": {
        "id": "r1Mu1kKyObCL"
      }
    },
    {
      "cell_type": "code",
      "execution_count": null,
      "metadata": {
        "id": "ELafJe_wtpsV"
      },
      "outputs": [],
      "source": [
        "num_classes = 7\n",
        "img_rows,img_cols = 48,48\n",
        "batch_size = 32\n",
        "\n",
        "train_data_dir = '/content/drive/MyDrive/Colab Notebooks/Machine Learning/Project/Dataset/train'\n",
        "validation_data_dir = '/content/drive/MyDrive/Colab Notebooks/Machine Learning/Project/Dataset/test'"
      ]
    },
    {
      "cell_type": "markdown",
      "source": [
        "### Data Augmentation"
      ],
      "metadata": {
        "id": "LKzPydcAOjLO"
      }
    },
    {
      "cell_type": "code",
      "execution_count": null,
      "metadata": {
        "colab": {
          "base_uri": "https://localhost:8080/"
        },
        "id": "m-iX1N9ntuOr",
        "outputId": "96d1dd3e-b845-4ec7-d272-eafb26a7e4b8"
      },
      "outputs": [
        {
          "output_type": "stream",
          "name": "stdout",
          "text": [
            "Found 28763 images belonging to 7 classes.\n",
            "Found 7178 images belonging to 7 classes.\n"
          ]
        }
      ],
      "source": [
        "train_datagen = ImageDataGenerator(\n",
        "\t\t\t\t\trescale=1./255,\n",
        "\t\t\t\t\trotation_range=30,\n",
        "\t\t\t\t\tshear_range=0.3,\n",
        "\t\t\t\t\tzoom_range=0.3,\n",
        "\t\t\t\t\twidth_shift_range=0.4,\n",
        "\t\t\t\t\theight_shift_range=0.4,\n",
        "\t\t\t\t\thorizontal_flip=True,\n",
        "\t\t\t\t\tfill_mode='nearest')\n",
        "\n",
        "validation_datagen = ImageDataGenerator(rescale=1./255)\n",
        "\n",
        "train_generator = train_datagen.flow_from_directory(\n",
        "\t\t\t\t\ttrain_data_dir,\n",
        "\t\t\t\t\tcolor_mode='grayscale',\n",
        "\t\t\t\t\ttarget_size=(img_rows,img_cols),\n",
        "\t\t\t\t\tbatch_size=batch_size,\n",
        "\t\t\t\t\tclass_mode='categorical',\n",
        "\t\t\t\t\tshuffle=True)\n",
        "\n",
        "validation_generator = validation_datagen.flow_from_directory(\n",
        "\t\t\t\t\t\t\tvalidation_data_dir,\n",
        "\t\t\t\t\t\t\tcolor_mode='grayscale',\n",
        "\t\t\t\t\t\t\ttarget_size=(img_rows,img_cols),\n",
        "\t\t\t\t\t\t\tbatch_size=batch_size,\n",
        "\t\t\t\t\t\t\tclass_mode='categorical',\n",
        "\t\t\t\t\t\t\tshuffle=True)"
      ]
    },
    {
      "cell_type": "markdown",
      "source": [
        "# CNN"
      ],
      "metadata": {
        "id": "-tr_Z5wUPCEF"
      }
    },
    {
      "cell_type": "code",
      "execution_count": null,
      "metadata": {
        "colab": {
          "base_uri": "https://localhost:8080/"
        },
        "id": "wJPdmF0ttSBC",
        "outputId": "a6951786-e2aa-4ddd-9cd6-972c275d3094"
      },
      "outputs": [
        {
          "output_type": "stream",
          "name": "stdout",
          "text": [
            "Model: \"sequential_1\"\n",
            "_________________________________________________________________\n",
            " Layer (type)                Output Shape              Param #   \n",
            "=================================================================\n",
            " conv2d_8 (Conv2D)           (None, 48, 48, 32)        320       \n",
            "                                                                 \n",
            " activation_11 (Activation)  (None, 48, 48, 32)        0         \n",
            "                                                                 \n",
            " batch_normalization_10 (Bat  (None, 48, 48, 32)       128       \n",
            " chNormalization)                                                \n",
            "                                                                 \n",
            " conv2d_9 (Conv2D)           (None, 48, 48, 32)        9248      \n",
            "                                                                 \n",
            " activation_12 (Activation)  (None, 48, 48, 32)        0         \n",
            "                                                                 \n",
            " batch_normalization_11 (Bat  (None, 48, 48, 32)       128       \n",
            " chNormalization)                                                \n",
            "                                                                 \n",
            " max_pooling2d_4 (MaxPooling  (None, 24, 24, 32)       0         \n",
            " 2D)                                                             \n",
            "                                                                 \n",
            " dropout_6 (Dropout)         (None, 24, 24, 32)        0         \n",
            "                                                                 \n",
            " conv2d_10 (Conv2D)          (None, 24, 24, 64)        18496     \n",
            "                                                                 \n",
            " activation_13 (Activation)  (None, 24, 24, 64)        0         \n",
            "                                                                 \n",
            " batch_normalization_12 (Bat  (None, 24, 24, 64)       256       \n",
            " chNormalization)                                                \n",
            "                                                                 \n",
            " conv2d_11 (Conv2D)          (None, 24, 24, 64)        36928     \n",
            "                                                                 \n",
            " activation_14 (Activation)  (None, 24, 24, 64)        0         \n",
            "                                                                 \n",
            " batch_normalization_13 (Bat  (None, 24, 24, 64)       256       \n",
            " chNormalization)                                                \n",
            "                                                                 \n",
            " max_pooling2d_5 (MaxPooling  (None, 12, 12, 64)       0         \n",
            " 2D)                                                             \n",
            "                                                                 \n",
            " dropout_7 (Dropout)         (None, 12, 12, 64)        0         \n",
            "                                                                 \n",
            " conv2d_12 (Conv2D)          (None, 12, 12, 128)       73856     \n",
            "                                                                 \n",
            " activation_15 (Activation)  (None, 12, 12, 128)       0         \n",
            "                                                                 \n",
            " batch_normalization_14 (Bat  (None, 12, 12, 128)      512       \n",
            " chNormalization)                                                \n",
            "                                                                 \n",
            " conv2d_13 (Conv2D)          (None, 12, 12, 128)       147584    \n",
            "                                                                 \n",
            " activation_16 (Activation)  (None, 12, 12, 128)       0         \n",
            "                                                                 \n",
            " batch_normalization_15 (Bat  (None, 12, 12, 128)      512       \n",
            " chNormalization)                                                \n",
            "                                                                 \n",
            " max_pooling2d_6 (MaxPooling  (None, 6, 6, 128)        0         \n",
            " 2D)                                                             \n",
            "                                                                 \n",
            " dropout_8 (Dropout)         (None, 6, 6, 128)         0         \n",
            "                                                                 \n",
            " conv2d_14 (Conv2D)          (None, 6, 6, 256)         295168    \n",
            "                                                                 \n",
            " activation_17 (Activation)  (None, 6, 6, 256)         0         \n",
            "                                                                 \n",
            " batch_normalization_16 (Bat  (None, 6, 6, 256)        1024      \n",
            " chNormalization)                                                \n",
            "                                                                 \n",
            " conv2d_15 (Conv2D)          (None, 6, 6, 256)         590080    \n",
            "                                                                 \n",
            " activation_18 (Activation)  (None, 6, 6, 256)         0         \n",
            "                                                                 \n",
            " batch_normalization_17 (Bat  (None, 6, 6, 256)        1024      \n",
            " chNormalization)                                                \n",
            "                                                                 \n",
            " max_pooling2d_7 (MaxPooling  (None, 3, 3, 256)        0         \n",
            " 2D)                                                             \n",
            "                                                                 \n",
            " dropout_9 (Dropout)         (None, 3, 3, 256)         0         \n",
            "                                                                 \n",
            " flatten_1 (Flatten)         (None, 2304)              0         \n",
            "                                                                 \n",
            " dense_3 (Dense)             (None, 64)                147520    \n",
            "                                                                 \n",
            " activation_19 (Activation)  (None, 64)                0         \n",
            "                                                                 \n",
            " batch_normalization_18 (Bat  (None, 64)               256       \n",
            " chNormalization)                                                \n",
            "                                                                 \n",
            " dropout_10 (Dropout)        (None, 64)                0         \n",
            "                                                                 \n",
            " dense_4 (Dense)             (None, 64)                4160      \n",
            "                                                                 \n",
            " activation_20 (Activation)  (None, 64)                0         \n",
            "                                                                 \n",
            " batch_normalization_19 (Bat  (None, 64)               256       \n",
            " chNormalization)                                                \n",
            "                                                                 \n",
            " dropout_11 (Dropout)        (None, 64)                0         \n",
            "                                                                 \n",
            " dense_5 (Dense)             (None, 7)                 455       \n",
            "                                                                 \n",
            " activation_21 (Activation)  (None, 7)                 0         \n",
            "                                                                 \n",
            "=================================================================\n",
            "Total params: 1,328,167\n",
            "Trainable params: 1,325,991\n",
            "Non-trainable params: 2,176\n",
            "_________________________________________________________________\n",
            "None\n"
          ]
        }
      ],
      "source": [
        "# Train the model\n",
        "\n",
        "model = Sequential()\n",
        "\n",
        "# Block-1\n",
        "\n",
        "model.add(Conv2D(32,(3,3),padding='same',kernel_initializer='he_normal',input_shape=(img_rows,img_cols,1)))\n",
        "model.add(Activation('elu'))\n",
        "model.add(BatchNormalization())\n",
        "model.add(Conv2D(32,(3,3),padding='same',kernel_initializer='he_normal',input_shape=(img_rows,img_cols,1)))\n",
        "model.add(Activation('elu'))\n",
        "model.add(BatchNormalization())\n",
        "model.add(MaxPooling2D(pool_size=(2,2)))\n",
        "model.add(Dropout(0.2))\n",
        "\n",
        "# Block-2 \n",
        "\n",
        "model.add(Conv2D(64,(3,3),padding='same',kernel_initializer='he_normal'))\n",
        "model.add(Activation('elu'))\n",
        "model.add(BatchNormalization())\n",
        "model.add(Conv2D(64,(3,3),padding='same',kernel_initializer='he_normal'))\n",
        "model.add(Activation('elu'))\n",
        "model.add(BatchNormalization())\n",
        "model.add(MaxPooling2D(pool_size=(2,2)))\n",
        "model.add(Dropout(0.2))\n",
        "\n",
        "# Block-3\n",
        "\n",
        "model.add(Conv2D(128,(3,3),padding='same',kernel_initializer='he_normal'))\n",
        "model.add(Activation('elu'))\n",
        "model.add(BatchNormalization())\n",
        "model.add(Conv2D(128,(3,3),padding='same',kernel_initializer='he_normal'))\n",
        "model.add(Activation('elu'))\n",
        "model.add(BatchNormalization())\n",
        "model.add(MaxPooling2D(pool_size=(2,2)))\n",
        "model.add(Dropout(0.2))\n",
        "\n",
        "# Block-4 \n",
        "\n",
        "model.add(Conv2D(256,(3,3),padding='same',kernel_initializer='he_normal'))\n",
        "model.add(Activation('elu'))\n",
        "model.add(BatchNormalization())\n",
        "model.add(Conv2D(256,(3,3),padding='same',kernel_initializer='he_normal'))\n",
        "model.add(Activation('elu'))\n",
        "model.add(BatchNormalization())\n",
        "model.add(MaxPooling2D(pool_size=(2,2)))\n",
        "model.add(Dropout(0.2))\n",
        "\n",
        "# Block-5\n",
        "\n",
        "model.add(Flatten())\n",
        "model.add(Dense(64,kernel_initializer='he_normal'))\n",
        "model.add(Activation('elu'))\n",
        "model.add(BatchNormalization())\n",
        "model.add(Dropout(0.5))\n",
        "\n",
        "# Block-6\n",
        "\n",
        "model.add(Dense(64,kernel_initializer='he_normal'))\n",
        "model.add(Activation('elu'))\n",
        "model.add(BatchNormalization())\n",
        "model.add(Dropout(0.5))\n",
        "\n",
        "# Block-7\n",
        "\n",
        "model.add(Dense(num_classes,kernel_initializer='he_normal'))\n",
        "model.add(Activation('softmax'))\n",
        "\n",
        "print(model.summary())"
      ]
    },
    {
      "cell_type": "markdown",
      "source": [
        "### Train the model "
      ],
      "metadata": {
        "id": "2HB5IOT57l1Z"
      }
    },
    {
      "cell_type": "code",
      "execution_count": null,
      "metadata": {
        "colab": {
          "base_uri": "https://localhost:8080/"
        },
        "id": "DR-QWKa0tSDs",
        "outputId": "f207bd89-e54e-4361-a144-df5baf269015"
      },
      "outputs": [
        {
          "name": "stderr",
          "output_type": "stream",
          "text": [
            "/usr/local/lib/python3.7/dist-packages/keras/optimizer_v2/adam.py:105: UserWarning: The `lr` argument is deprecated, use `learning_rate` instead.\n",
            "  super(Adam, self).__init__(name, **kwargs)\n",
            "/usr/local/lib/python3.7/dist-packages/ipykernel_launcher.py:36: UserWarning: `Model.fit_generator` is deprecated and will be removed in a future version. Please use `Model.fit`, which supports generators.\n"
          ]
        },
        {
          "name": "stdout",
          "output_type": "stream",
          "text": [
            "Epoch 1/25\n",
            "357/357 [==============================] - ETA: 0s - loss: 1.8829 - accuracy: 0.3303\n",
            "Epoch 00001: val_loss improved from inf to 1.88111, saving model to drive/My Drive/Face Emotion Recognition/Emotion_vgg.h5\n",
            "357/357 [==============================] - 2987s 8s/step - loss: 1.8829 - accuracy: 0.3303 - val_loss: 1.8811 - val_accuracy: 0.2296 - lr: 0.0010\n",
            "Epoch 2/25\n",
            "357/357 [==============================] - ETA: 0s - loss: 1.4724 - accuracy: 0.4146\n",
            "Epoch 00002: val_loss did not improve from 1.88111\n",
            "357/357 [==============================] - 60s 169ms/step - loss: 1.4724 - accuracy: 0.4146 - val_loss: 1.9543 - val_accuracy: 0.2365 - lr: 0.0010\n",
            "Epoch 3/25\n",
            "357/357 [==============================] - ETA: 0s - loss: 1.3733 - accuracy: 0.4630\n",
            "Epoch 00003: val_loss did not improve from 1.88111\n",
            "357/357 [==============================] - 61s 171ms/step - loss: 1.3733 - accuracy: 0.4630 - val_loss: 1.9647 - val_accuracy: 0.2416 - lr: 0.0010\n",
            "Epoch 4/25\n",
            "357/357 [==============================] - ETA: 0s - loss: 1.3445 - accuracy: 0.4821Restoring model weights from the end of the best epoch: 1.\n",
            "\n",
            "Epoch 00004: val_loss did not improve from 1.88111\n",
            "\n",
            "Epoch 00004: ReduceLROnPlateau reducing learning rate to 0.00020000000949949026.\n",
            "357/357 [==============================] - 60s 167ms/step - loss: 1.3445 - accuracy: 0.4821 - val_loss: 1.9287 - val_accuracy: 0.2505 - lr: 0.0010\n",
            "Epoch 00004: early stopping\n"
          ]
        }
      ],
      "source": [
        "checkpoint = ModelCheckpoint('/content/drive/MyDrive/Colab Notebooks/Machine Learning/Project/Emotion_vgg.h5',\n",
        "                             monitor='val_loss',\n",
        "                             mode='min',\n",
        "                             save_best_only=True,\n",
        "                             verbose=1)\n",
        "\n",
        "earlystop = EarlyStopping(monitor='val_loss',\n",
        "                          min_delta=0,\n",
        "                          patience=3,\n",
        "                          verbose=1,\n",
        "                          restore_best_weights=True\n",
        "                          )\n",
        "\n",
        "reduce_lr = ReduceLROnPlateau(monitor='val_loss',\n",
        "                              factor=0.2,\n",
        "                              patience=3,\n",
        "                              verbose=1,\n",
        "                              min_delta=0.0001)\n",
        "\n",
        "callbacks = [earlystop,checkpoint,reduce_lr]\n",
        "\n",
        "model.compile(loss='categorical_crossentropy',\n",
        "              optimizer = Adam(lr=0.001),\n",
        "              metrics=['accuracy'])\n",
        "epochs=25\n",
        "\n",
        "history=model.fit_generator(\n",
        "                train_generator,\n",
        "                epochs=epochs,\n",
        "                callbacks=callbacks,\n",
        "                validation_data=validation_generator,\n",
        "                validation_steps=batch_size)"
      ]
    },
    {
      "cell_type": "markdown",
      "source": [
        "Train the model by removing the Early stopping point but by reducing the learning rate on plateau."
      ],
      "metadata": {
        "id": "xf-peXZV9jHG"
      }
    },
    {
      "cell_type": "code",
      "execution_count": null,
      "metadata": {
        "id": "KtR-Wj7G1DXD",
        "colab": {
          "base_uri": "https://localhost:8080/"
        },
        "outputId": "82daa354-c8f5-4e79-c7d1-d17e94ef7c79"
      },
      "outputs": [
        {
          "output_type": "stream",
          "name": "stderr",
          "text": [
            "/usr/local/lib/python3.7/dist-packages/keras/optimizer_v2/adam.py:105: UserWarning: The `lr` argument is deprecated, use `learning_rate` instead.\n",
            "  super(Adam, self).__init__(name, **kwargs)\n",
            "/usr/local/lib/python3.7/dist-packages/ipykernel_launcher.py:29: UserWarning: `Model.fit_generator` is deprecated and will be removed in a future version. Please use `Model.fit`, which supports generators.\n"
          ]
        },
        {
          "output_type": "stream",
          "name": "stdout",
          "text": [
            "Epoch 1/25\n",
            "357/357 [==============================] - ETA: 0s - loss: 0.9725 - accuracy: 0.6511\n",
            "Epoch 00001: val_loss improved from inf to 1.23320, saving model to drive/My Drive/Face Emotion Recognition/Emotion_vgg2.h5\n",
            "357/357 [==============================] - 69s 189ms/step - loss: 0.9725 - accuracy: 0.6511 - val_loss: 1.2332 - val_accuracy: 0.5495 - lr: 0.0010\n",
            "Epoch 2/25\n",
            "357/357 [==============================] - ETA: 0s - loss: 0.9739 - accuracy: 0.6475\n",
            "Epoch 00002: val_loss improved from 1.23320 to 1.13977, saving model to drive/My Drive/Face Emotion Recognition/Emotion_vgg2.h5\n",
            "357/357 [==============================] - 68s 190ms/step - loss: 0.9739 - accuracy: 0.6475 - val_loss: 1.1398 - val_accuracy: 0.5628 - lr: 0.0010\n",
            "Epoch 3/25\n",
            "357/357 [==============================] - ETA: 0s - loss: 0.9654 - accuracy: 0.6509\n",
            "Epoch 00003: val_loss did not improve from 1.13977\n",
            "357/357 [==============================] - 69s 193ms/step - loss: 0.9654 - accuracy: 0.6509 - val_loss: 1.2623 - val_accuracy: 0.5292 - lr: 0.0010\n",
            "Epoch 4/25\n",
            "357/357 [==============================] - ETA: 0s - loss: 0.9527 - accuracy: 0.6551\n",
            "Epoch 00004: val_loss did not improve from 1.13977\n",
            "357/357 [==============================] - 76s 213ms/step - loss: 0.9527 - accuracy: 0.6551 - val_loss: 1.1727 - val_accuracy: 0.5466 - lr: 0.0010\n",
            "Epoch 5/25\n",
            "357/357 [==============================] - ETA: 0s - loss: 0.9525 - accuracy: 0.6564\n",
            "Epoch 00005: val_loss did not improve from 1.13977\n",
            "357/357 [==============================] - 70s 196ms/step - loss: 0.9525 - accuracy: 0.6564 - val_loss: 1.2080 - val_accuracy: 0.5591 - lr: 0.0010\n",
            "Epoch 6/25\n",
            "357/357 [==============================] - ETA: 0s - loss: 0.9459 - accuracy: 0.6575\n",
            "Epoch 00006: val_loss improved from 1.13977 to 1.11793, saving model to drive/My Drive/Face Emotion Recognition/Emotion_vgg2.h5\n",
            "357/357 [==============================] - 63s 175ms/step - loss: 0.9459 - accuracy: 0.6575 - val_loss: 1.1179 - val_accuracy: 0.5693 - lr: 0.0010\n",
            "Epoch 7/25\n",
            "357/357 [==============================] - ETA: 0s - loss: 0.9402 - accuracy: 0.6562\n",
            "Epoch 00007: val_loss did not improve from 1.11793\n",
            "357/357 [==============================] - 70s 195ms/step - loss: 0.9402 - accuracy: 0.6562 - val_loss: 1.1338 - val_accuracy: 0.5731 - lr: 0.0010\n",
            "Epoch 8/25\n",
            "357/357 [==============================] - ETA: 0s - loss: 0.9244 - accuracy: 0.6644\n",
            "Epoch 00008: val_loss did not improve from 1.11793\n",
            "357/357 [==============================] - 69s 192ms/step - loss: 0.9244 - accuracy: 0.6644 - val_loss: 1.2209 - val_accuracy: 0.5546 - lr: 0.0010\n",
            "Epoch 9/25\n",
            "357/357 [==============================] - ETA: 0s - loss: 0.9253 - accuracy: 0.6656\n",
            "Epoch 00009: val_loss improved from 1.11793 to 1.09029, saving model to drive/My Drive/Face Emotion Recognition/Emotion_vgg2.h5\n",
            "357/357 [==============================] - 63s 177ms/step - loss: 0.9253 - accuracy: 0.6656 - val_loss: 1.0903 - val_accuracy: 0.5983 - lr: 0.0010\n",
            "Epoch 10/25\n",
            "357/357 [==============================] - ETA: 0s - loss: 0.9240 - accuracy: 0.6654\n",
            "Epoch 00010: val_loss did not improve from 1.09029\n",
            "357/357 [==============================] - 64s 178ms/step - loss: 0.9240 - accuracy: 0.6654 - val_loss: 1.1943 - val_accuracy: 0.5573 - lr: 0.0010\n",
            "Epoch 11/25\n",
            "357/357 [==============================] - ETA: 0s - loss: 0.9278 - accuracy: 0.6611\n",
            "Epoch 00011: val_loss did not improve from 1.09029\n",
            "357/357 [==============================] - 62s 175ms/step - loss: 0.9278 - accuracy: 0.6611 - val_loss: 1.1854 - val_accuracy: 0.5503 - lr: 0.0010\n",
            "Epoch 12/25\n",
            "357/357 [==============================] - ETA: 0s - loss: 0.9176 - accuracy: 0.6680\n",
            "Epoch 00012: val_loss did not improve from 1.09029\n",
            "357/357 [==============================] - 63s 176ms/step - loss: 0.9176 - accuracy: 0.6680 - val_loss: 1.2132 - val_accuracy: 0.5562 - lr: 0.0010\n",
            "Epoch 13/25\n",
            "357/357 [==============================] - ETA: 0s - loss: 0.9093 - accuracy: 0.6707\n",
            "Epoch 00013: val_loss did not improve from 1.09029\n",
            "\n",
            "Epoch 00013: ReduceLROnPlateau reducing learning rate to 0.00020000000949949026.\n",
            "357/357 [==============================] - 68s 191ms/step - loss: 0.9093 - accuracy: 0.6707 - val_loss: 1.1209 - val_accuracy: 0.5713 - lr: 0.0010\n",
            "Epoch 14/25\n",
            "357/357 [==============================] - ETA: 0s - loss: 0.8914 - accuracy: 0.6776\n",
            "Epoch 00014: val_loss improved from 1.09029 to 1.08733, saving model to drive/My Drive/Face Emotion Recognition/Emotion_vgg2.h5\n",
            "357/357 [==============================] - 63s 176ms/step - loss: 0.8914 - accuracy: 0.6776 - val_loss: 1.0873 - val_accuracy: 0.5936 - lr: 2.0000e-04\n",
            "Epoch 15/25\n",
            "357/357 [==============================] - ETA: 0s - loss: 0.8708 - accuracy: 0.6810\n",
            "Epoch 00015: val_loss did not improve from 1.08733\n",
            "357/357 [==============================] - 61s 171ms/step - loss: 0.8708 - accuracy: 0.6810 - val_loss: 1.1395 - val_accuracy: 0.5765 - lr: 2.0000e-04\n",
            "Epoch 16/25\n",
            "357/357 [==============================] - ETA: 0s - loss: 0.8743 - accuracy: 0.6829\n",
            "Epoch 00016: val_loss improved from 1.08733 to 1.02389, saving model to drive/My Drive/Face Emotion Recognition/Emotion_vgg2.h5\n",
            "357/357 [==============================] - 64s 178ms/step - loss: 0.8743 - accuracy: 0.6829 - val_loss: 1.0239 - val_accuracy: 0.6145 - lr: 2.0000e-04\n",
            "Epoch 17/25\n",
            "357/357 [==============================] - ETA: 0s - loss: 0.8600 - accuracy: 0.6878\n",
            "Epoch 00017: val_loss did not improve from 1.02389\n",
            "357/357 [==============================] - 63s 177ms/step - loss: 0.8600 - accuracy: 0.6878 - val_loss: 1.0870 - val_accuracy: 0.5919 - lr: 2.0000e-04\n",
            "Epoch 18/25\n",
            "357/357 [==============================] - ETA: 0s - loss: 0.8725 - accuracy: 0.6874\n",
            "Epoch 00018: val_loss did not improve from 1.02389\n",
            "357/357 [==============================] - 65s 181ms/step - loss: 0.8725 - accuracy: 0.6874 - val_loss: 1.0544 - val_accuracy: 0.6029 - lr: 2.0000e-04\n",
            "Epoch 19/25\n",
            "357/357 [==============================] - ETA: 0s - loss: 0.8633 - accuracy: 0.6874\n",
            "Epoch 00019: val_loss did not improve from 1.02389\n",
            "357/357 [==============================] - 65s 182ms/step - loss: 0.8633 - accuracy: 0.6874 - val_loss: 1.0569 - val_accuracy: 0.6044 - lr: 2.0000e-04\n",
            "Epoch 20/25\n",
            "357/357 [==============================] - ETA: 0s - loss: 0.8579 - accuracy: 0.6875\n",
            "Epoch 00020: val_loss did not improve from 1.02389\n",
            "\n",
            "Epoch 00020: ReduceLROnPlateau reducing learning rate to 4.0000001899898055e-05.\n",
            "357/357 [==============================] - 64s 180ms/step - loss: 0.8579 - accuracy: 0.6875 - val_loss: 1.0677 - val_accuracy: 0.6012 - lr: 2.0000e-04\n",
            "Epoch 21/25\n",
            "357/357 [==============================] - ETA: 0s - loss: 0.8594 - accuracy: 0.6904\n",
            "Epoch 00021: val_loss did not improve from 1.02389\n",
            "357/357 [==============================] - 63s 177ms/step - loss: 0.8594 - accuracy: 0.6904 - val_loss: 1.0477 - val_accuracy: 0.6098 - lr: 4.0000e-05\n",
            "Epoch 22/25\n",
            "357/357 [==============================] - ETA: 0s - loss: 0.8583 - accuracy: 0.6871\n",
            "Epoch 00022: val_loss did not improve from 1.02389\n",
            "357/357 [==============================] - 64s 178ms/step - loss: 0.8583 - accuracy: 0.6871 - val_loss: 1.0533 - val_accuracy: 0.6071 - lr: 4.0000e-05\n",
            "Epoch 23/25\n",
            "357/357 [==============================] - ETA: 0s - loss: 0.8480 - accuracy: 0.6942\n",
            "Epoch 00023: val_loss did not improve from 1.02389\n",
            "357/357 [==============================] - 65s 182ms/step - loss: 0.8480 - accuracy: 0.6942 - val_loss: 1.0641 - val_accuracy: 0.6047 - lr: 4.0000e-05\n",
            "Epoch 24/25\n",
            "357/357 [==============================] - ETA: 0s - loss: 0.8527 - accuracy: 0.6884\n",
            "Epoch 00024: val_loss did not improve from 1.02389\n",
            "\n",
            "Epoch 00024: ReduceLROnPlateau reducing learning rate to 8.000000525498762e-06.\n",
            "357/357 [==============================] - 64s 179ms/step - loss: 0.8527 - accuracy: 0.6884 - val_loss: 1.0427 - val_accuracy: 0.6100 - lr: 4.0000e-05\n",
            "Epoch 25/25\n",
            "357/357 [==============================] - ETA: 0s - loss: 0.8533 - accuracy: 0.6928\n",
            "Epoch 00025: val_loss did not improve from 1.02389\n",
            "357/357 [==============================] - 64s 179ms/step - loss: 0.8533 - accuracy: 0.6928 - val_loss: 1.0424 - val_accuracy: 0.6088 - lr: 8.0000e-06\n"
          ]
        }
      ],
      "source": [
        "checkpoint = ModelCheckpoint('/content/drive/MyDrive/Colab Notebooks/Machine Learning/Project/Emotion_vgg2.h5',\n",
        "                             monitor='val_loss',\n",
        "                             mode='min',\n",
        "                             save_best_only=True,\n",
        "                             verbose=1)\n",
        "\n",
        "reduce_lr = ReduceLROnPlateau(monitor='val_loss',\n",
        "                              factor=0.2,\n",
        "                              patience=4,\n",
        "                              verbose=1,\n",
        "                              min_delta=0.0001)\n",
        "\n",
        "callbacks = [checkpoint,reduce_lr]\n",
        "\n",
        "model.compile(loss='categorical_crossentropy',\n",
        "              optimizer = Adam(lr=0.001),\n",
        "              metrics=['accuracy'])\n",
        "\n",
        "epochs=25\n",
        "\n",
        "history=model.fit_generator(\n",
        "                train_generator,\n",
        "                epochs=epochs,\n",
        "                callbacks=callbacks,\n",
        "                validation_data=validation_generator,\n",
        "                validation_steps=batch_size)"
      ]
    }
  ],
  "metadata": {
    "colab": {
      "provenance": []
    },
    "kernelspec": {
      "display_name": "Python 3",
      "name": "python3"
    },
    "language_info": {
      "name": "python"
    }
  },
  "nbformat": 4,
  "nbformat_minor": 0
}